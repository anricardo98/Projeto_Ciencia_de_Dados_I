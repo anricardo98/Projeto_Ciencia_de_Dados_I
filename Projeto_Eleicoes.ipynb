{
  "nbformat": 4,
  "nbformat_minor": 0,
  "metadata": {
    "colab": {
      "name": "Projeto_Eleicoes.ipynb",
      "version": "0.3.2",
      "provenance": [],
      "collapsed_sections": []
    },
    "kernelspec": {
      "name": "python3",
      "display_name": "Python 3"
    },
    "accelerator": "GPU"
  },
  "cells": [
    {
      "metadata": {
        "id": "Kya-JSRLPYuk",
        "colab_type": "text"
      },
      "cell_type": "markdown",
      "source": [
        "#Recomendação: Google Colaboratory\n",
        "\n",
        "Em caso de este notebook estar sendo executado com o Google Colaboratory, a célula abaixo deste texto deve ser executada para carregar o dataset do projeto. Ao clicar em **Escolher arquivos**, selecione o arquivo correspondente deste trabalho."
      ]
    },
    {
      "metadata": {
        "id": "vZZ8SLM8JnGm",
        "colab_type": "code",
        "colab": {}
      },
      "cell_type": "code",
      "source": [
        "# Upload de arquivos do seu sistema de arquivos local \n",
        "\n",
        "from google.colab import files\n",
        "uploaded = files.upload()\n",
        "for fn in uploaded.keys():\n",
        "  print('User uploaded file \"{name}\" with length {length} bytes'.format(\n",
        "      name=fn, length=len(uploaded[fn])))"
      ],
      "execution_count": 0,
      "outputs": []
    },
    {
      "metadata": {
        "id": "uawgmSGoRY_V",
        "colab_type": "text"
      },
      "cell_type": "markdown",
      "source": [
        "Para a organização deste projeto, foi determinado os seguintes níveis de dificuldade: \n",
        "*   Nível 1: Fácil\n",
        "*   Nível 2: Médio\n",
        "*   Nível 3: Difícil\n",
        "*   Nível 4: Muito Difícil \n",
        "\n",
        "Em cada questão está especificado o nível a ser tratado.\n",
        "\n"
      ]
    },
    {
      "metadata": {
        "id": "T64IZzkq7zf0",
        "colab_type": "text"
      },
      "cell_type": "markdown",
      "source": [
        "#  1. Introdução (Nível 1)\n",
        "       \n",
        "Em eleições, dentre os cargos a serem definidos no ano em questão, é comum o uso de diferentes sistemas de contagem de votos. Com o intuito de explanar sobre um dos métodos usados, através do estudo dos dados, este projeto centraliza seu foco nas eleições para vereadores.\n",
        "\n",
        "A definição dos vereadores eleitos, diferentemente de eleições de cargos do Executivo que utiliza o sistema majoritário, ocorre através da aplicação do sistema proporcional. Dentre os cargos do Legislativo, o único em que esse sistema não é aplicado é o Senado.\n",
        "\n",
        "No sistema proporcional, a decisão dos eleitos não ocorre em detrimento da quantidade de votos para um candidato. O determinante da votação é o conjunto de votos obtidos por uma coligação. Ao longo dos exercícios será descrito com mais detalhes como a contagem de votos nesse sistema é feita.\n",
        "\n",
        "Os dados utilizados neste projeto, referentes às eleições de 2016 para vereadores do município de Natal/RN, os quais estão disponíveis em **eleicoes.csv**, foram retirados do site do [Tribunal Superior Eleitorial](http://www.tse.jus.br/eleicoes/eleicoes-anteriores/eleicoes-2016/eleicoes-2016).\n",
        "\n",
        "Como primeira tarefa, deve ser feita a importação da bibliotecas usada nesta atividade, a qual é a seguinte: Pandas. A partir dos recursos disponibilizados pela biblioteca Pandas, deve ser feita a leitura do dataset **eleicao.csv**, o qual foi fornecido pelo professor Leonardo Cesar Teonácio Bezerra com limpeza preliminar dos dados já realizada, a ser analisado no projeto.\n",
        "\n",
        "--> Recomendações: \n",
        "* Ao utilizar **.read_csv()**, considere que para a leitura correta do dataset é necessário inserir também **sep=\";\"**.\n",
        "\n",
        "\n",
        "\n",
        "\n"
      ]
    },
    {
      "metadata": {
        "id": "OYwAuiJNCsU4",
        "colab_type": "code",
        "colab": {}
      },
      "cell_type": "code",
      "source": [
        "#Importe a biblioteca \n",
        "\n",
        "\n",
        "#Faça a leitura do dataset, atribuindo o conteúdo a \"eleicao\"\n",
        "eleicao = ..."
      ],
      "execution_count": 0,
      "outputs": []
    },
    {
      "metadata": {
        "id": "aCM3CKC-C8c7",
        "colab_type": "text"
      },
      "cell_type": "markdown",
      "source": [
        "#2. Identificar os partidos e coligações (Nível 1)\n",
        "\n",
        "        "
      ]
    },
    {
      "metadata": {
        "id": "3GmQW4LjkGk1",
        "colab_type": "text"
      },
      "cell_type": "markdown",
      "source": [
        " Considerando que o eleitor pode votar em um candidato específico ou diretamente em um partido, este chamado de voto de legenda, torna-se interessante observar quais  partidos estão concorrendo. Assim como, é importante analisar as coligações, visto que, como mencionado acima, é o fator determinante na decisão de quais candidatos vão receber cargos de vereador. Logo,  na célula abaixo identifique os partidos e coligações envolvidos nesta eleição.\n",
        " \n",
        " Atenção, os partidos são separados das coligações através do seguinte caractere: ** - ** .Além disso, há partidos registrados no dataset que não estão associados a coligações, logo, o partido também deve ser contabilizado como uma coligação. Para isso, recomendamos o uso do recurso **try**/**except**, o qual através de **try** uma primeira tentativa é feita e se der erro, o **except** disponibiliza outra solução. Por exemplo:\n",
        "```\n",
        "                    try:\n",
        "                            lista.append(obj1)\n",
        "                    except:\n",
        "                            lista.append(obj2)\n",
        "```\n",
        "Para mais informações sobre o método **try/except**, acesse o link [Erros and Exceptions](https://docs.python.org/3/tutorial/errors.html).\n",
        "\n",
        "--> Recomendações:\n",
        "*   Utilize .split() para separar os dados.\n",
        "*   Utilize .append() para adicionar os dados em suas respectivas listas.\n",
        "*   Se necessário, utilize a função .set(), a qual permite criar um conjunto de dados sem repetições. Para mais informações: [set](https://docs.python.org/2/library/stdtypes.html#set).\n",
        "\n"
      ]
    },
    {
      "metadata": {
        "id": "VZDw4rOnFWxg",
        "colab_type": "code",
        "colab": {}
      },
      "cell_type": "code",
      "source": [
        "#Utilize as variáveis abaixo para armazenar os dados\n",
        "partidos = ...\n",
        "coligacoes = ..."
      ],
      "execution_count": 0,
      "outputs": []
    },
    {
      "metadata": {
        "id": "q_I2TmlTEgYp",
        "colab_type": "text"
      },
      "cell_type": "markdown",
      "source": [
        "#3. Identificar os partidos com o maior número de candidatos (Nível 1)"
      ]
    },
    {
      "metadata": {
        "id": "FwqQUkSrP4_w",
        "colab_type": "text"
      },
      "cell_type": "markdown",
      "source": [
        "Visto que cada partido associado a uma coligação afeta as chances da coligação receber vagas para seus candidatos, devido a possibilidade do voto de legenda, torna-se interessante analisar os partidos. Portanto, na célula abaixo identifique os partidos com maior número de candidatos.\n",
        "\n",
        "--> Recomendações:\n",
        "*  Utilize o método dicionário para contagem.\n",
        "* Utilize o método .split() para separação dos dados.\n",
        "* Se necessário, utilize o .Series() e o .sort_values(ascending=False), ambos recursos da biblioteca Pandas. O .Series() permite transformar o dicionário em um ndarray de uma dimensão com labels, para mais informações: [pandas.Series](https://pandas.pydata.org/pandas-docs/version/0.22/generated/pandas.Series.html)."
      ]
    },
    {
      "metadata": {
        "id": "YEsa6WJWP-oJ",
        "colab_type": "code",
        "colab": {}
      },
      "cell_type": "code",
      "source": [
        "#Utilize a variável abaixo para armazenar seus dados finais\n",
        "partidos_candidatos = ..."
      ],
      "execution_count": 0,
      "outputs": []
    },
    {
      "metadata": {
        "id": "w2jrAiGjESj8",
        "colab_type": "text"
      },
      "cell_type": "markdown",
      "source": [
        "# 4. Identificar o número de todos os partidos. (Nível 2)"
      ]
    },
    {
      "metadata": {
        "id": "mwApBeHDE0M7",
        "colab_type": "text"
      },
      "cell_type": "markdown",
      "source": [
        "Um termo mencionado anteriormente foi \"voto de legenda\". \"O voto em legenda é aquele em que o eleitor não indica um candidato específico para ocupar determinada vaga, mas, sim, manifesta o desejo de que qualquer candidato daquela legenda possa exercer a função\" ([fonte](https://ultimosegundo.ig.com.br/eleicoes/o-que-e-voto-em-legenda/n1237753979468.html)). Como você já tem o número correspondente a cada candidato e também sabe a qual partido cada candidato, agora você deve evidenciar a legenda de cada partido, ou seja, o número que representa o partido na urna."
      ]
    },
    {
      "metadata": {
        "id": "chu9HZJsGZby",
        "colab_type": "code",
        "colab": {}
      },
      "cell_type": "code",
      "source": [
        "#Utilize a variável abaixo para guardar o dicionário que contém os partidos como chaves e as legendas como valores\n",
        "partidos_e_legendas = ..."
      ],
      "execution_count": 0,
      "outputs": []
    },
    {
      "metadata": {
        "id": "PeN28LWUBn2Y",
        "colab_type": "text"
      },
      "cell_type": "markdown",
      "source": [
        "#5. Identificar os candidatos mais votados. (Nível 1)"
      ]
    },
    {
      "metadata": {
        "id": "FyNZeLdxDfYj",
        "colab_type": "text"
      },
      "cell_type": "markdown",
      "source": [
        "Como foi introduzido anteriormente, a contagem de votos para o cargo de vereador é realizada de forma proporcinal com os votos recebidos para os candidatos de cada coligação. A fim de entender um pouco melhor esse sistema de contagem, é interessante saber se os candidatos mais votados também foram os candidatos que foram eleitos. Por isso, agora você deve criar um script que imprimirá os 29 primeiros candidatos levando em consideração a quantidade de votos recebidos.\n",
        "\n",
        "--> Recomendações:\n",
        "* Verifique o parâmetro \"by\" do método **DataFrame.sort_values()** ([link](https://pandas.pydata.org/pandas-docs/stable/generated/pandas.DataFrame.sort_values.html))"
      ]
    },
    {
      "metadata": {
        "id": "7Ir3NB6EDfEj",
        "colab_type": "code",
        "colab": {}
      },
      "cell_type": "code",
      "source": [
        ""
      ],
      "execution_count": 0,
      "outputs": []
    },
    {
      "metadata": {
        "id": "atW_vXtzcTMZ",
        "colab_type": "text"
      },
      "cell_type": "markdown",
      "source": [
        "Nas questões 6, 7, 8 e 9 será mostrado o processo de determinação dos candidatos eleitos pelo processo de eleição proporcional. "
      ]
    },
    {
      "metadata": {
        "id": "K7jlp3b_D2mg",
        "colab_type": "text"
      },
      "cell_type": "markdown",
      "source": [
        "# 6. Quantos votos cada coligação recebeu? (Nível 2)\n",
        "\n",
        "Primeiramente, devemos saber quais coligações existem. Para isso, utilizaremos a função **pandas.Series.apply** para criar uma nova coluna chamada **coligacao**, sendo assim teremos a função **get_coligacao** para aplicarmos nos valores da *Series*. Após isso, devemos agrupar os vereadores pela coligação e realizar um somatório de votos para cada coligação.\n",
        "\n",
        "Funções que irão te ajudar nesse exercício:\n",
        "\n",
        "- [**string.find**](https://docs.python.org/2/library/string.html#string.find): Procura uma substring na string desejada, retornando o primeiro valor de index caso encontre e -1 caso não encontre.\n",
        "- [**string.strip**](https://docs.python.org/2/library/string.html#string.strip): Elimina os espaços em branco no inicio e no final da string.\n",
        "- [**pandas.Series.apply**](https://pandas.pydata.org/pandas-docs/stable/generated/pandas.Series.apply.html): Consiste em atribuir uma função para cada elemento pertencente a *Series* desejada.\n",
        "- [**pandas.DataFrame.groupby**](https://pandas.pydata.org/pandas-docs/stable/generated/pandas.DataFrame.groupby.html): Consiste em agrupar o *DataFrame* a partir de uma coluna desejada.\n",
        "- [**pandas.Series.sum**](https://pandas.pydata.org/pandas-docs/stable/generated/pandas.Series.sum.html): Realiza o somatório dos valores da *Series*.\n",
        "- [**pandas.Series.sort_values**](https://pandas.pydata.org/pandas-docs/stable/generated/pandas.Series.sort_values.html): Ordena a *Series*, por padrão é do menor para o maior.\n",
        "\n",
        "**Exercício**\n",
        "\n",
        "1. Usar o método **string.find** para encontrar o index do delimitador que separa o Partido da Coligação nos valores da *Series* data['Partido/Coligação'];\n",
        "1. Pegar a substring referente a Coligação e retirar os espaços em branco nas extremidades, este último usando o método **string.strip**;\n",
        "1. Aplicar a função criada no método **pandas.Series.apply**;\n",
        "1. Agrupar o DataFrame por coligação usando **pandas.Series.groupby**, somar os votos de cada coligação usando o método **pandas.Series.sum** e ordená-los usando o método **pandas.Series.sort_values**."
      ]
    },
    {
      "metadata": {
        "id": "iLdmlWQ8Hc8M",
        "colab_type": "code",
        "colab": {}
      },
      "cell_type": "code",
      "source": [
        "def get_coligacao(partido_coligacao):\n",
        "    \"\"\"Essa função retorna a coligação que o vereador faz parte.\n",
        "    \n",
        "    Exemplo:\n",
        "        input: 'PRB - PRB / PSDC'\n",
        "        output: 'PRB / PSDC'\n",
        "    \"\"\"\n",
        "    delimiter = # EXERCÍCIO 1\n",
        "    return # EXERCÍCIO 2\n",
        "\n",
        "eleicao['coligacao'] = eleicao['Partido/Coligação'].apply(\"# EXERCÍCIO 3 \")\n",
        "votos_coligacoes = eleicao.groupby(\"# EXERCÍCIO 4 \")\n",
        "\n",
        "votos_coligacoes"
      ],
      "execution_count": 0,
      "outputs": []
    },
    {
      "metadata": {
        "id": "D2ZGYdGm-4a5",
        "colab_type": "text"
      },
      "cell_type": "markdown",
      "source": [
        "#7. Quais coligações possuirão representantes eleitos? (Nível 3)"
      ]
    },
    {
      "metadata": {
        "id": "Q2e7cIAYChvl",
        "colab_type": "text"
      },
      "cell_type": "markdown",
      "source": [
        "Para realização desta etapa, é necessário a explicação de alguns conceitos:\n",
        "\n",
        "*   Quociente eleitoral: a razão entre o total de votos válidos e a quantidade de vagas disponíveis.\n",
        "*   Quociente partidário: a quantidade de vagas recebidas, inicialmente, por cada coligação, que é determinada pela divisão inteira entre o número de votos recebido por determinada coligação e o quociente eleitoral.\n",
        "\n",
        "Para responder esta questão corretamente, você deverá imprimir as coligações que apresentam um quociente partidário maior que 0. \n",
        "\n",
        "Observe que:\n",
        "\n",
        "\n",
        "*   Haviam 29 vagas disponíveis para este cargo.\n",
        "*   O quociente eleitoral será 12684, uma vez que no dataset fornecido não é indicado o voto de legenda.  Portanto, ao não utilizar este valor, pode-se obter um resultado diferente do desejado.\n",
        "\n",
        "--> Recomendações:\n",
        "*   Utilize as variáveis fornecidas.\n",
        "*   Para realizar uma divisão inteira, é utilizado o operador \"//\".\n",
        "*   Crie um dicionário para armazenar o quociente partidário de cada coligação, pois este será utilizado nas questões seguintes.\n",
        "*   Contabilize a quantidade de cadeiras já ocupadas, o que será necessário para a próxima questão.\n",
        "\n",
        "\n",
        "\n",
        "\n",
        "\n",
        "\n",
        "\n",
        "\n",
        "\n",
        "\n",
        "\n",
        "\n"
      ]
    },
    {
      "metadata": {
        "id": "NWI39VENCimq",
        "colab_type": "code",
        "colab": {}
      },
      "cell_type": "code",
      "source": [
        "Q_eleitoral = 12684 \n",
        "total_cadeiras = 29 "
      ],
      "execution_count": 0,
      "outputs": []
    },
    {
      "metadata": {
        "id": "N_lqYzUJLXML",
        "colab_type": "text"
      },
      "cell_type": "markdown",
      "source": [
        "#8. Quantas cadeiras cada coligação receberá? (Nível 4)"
      ]
    },
    {
      "metadata": {
        "id": "AlK784LrLjCM",
        "colab_type": "text"
      },
      "cell_type": "markdown",
      "source": [
        "Uma vez que para o cálculo do quociente partidário foi utilizado uma divisão inteira, é comum que hajam vagas residuais, que são distribuidas de forma iterativa entre os partidos que apresentam quociente partidário maior que 0.\n",
        "\n",
        "Para isto, é calculado a seguinte média: \n",
        "\n",
        "               Média = total de votos recebidos pela coligação / (Qp + cadeiras recebidas + 1)\n",
        "                  \n",
        "                  \n",
        "Onde, \n",
        "\n",
        "*   Qp: o quociente partidário daquela coligação \n",
        "*   Cadeiras recebidas: é o número de cadeiras recebidas nesse processo iterativo\n",
        "\n",
        "A coligação que apresentar a maior média receberá a cadeira e este processo se repetirá enquanto houver vagas a serem preenchidas.\n",
        "\n",
        "A quantidade final de cadeiras será a soma do quociente partidário calculado anteriormente com a quantidade de cadeiras recebidas nesse processo.\n",
        "\n",
        "\n",
        "Sendo assim, determine a quantidade de cadeiras que cada coligação receberá.\n",
        "\n",
        "\n",
        "\n",
        "\n",
        "--> Recomendações:\n",
        "\n",
        "\n",
        "*   Crie um dicionário que armazene a coligação como chave e a média desta como valor.\n",
        "*   Ao transformar este dicionário em uma Series, através do pd.Series() utilizado anteriormente, será possível utilizar pd.idxmax() que retorna o index relacionado ao maior valor da Series. Para mais informações sobre pd.idxmax(): [idxmax](https://pandas.pydata.org/pandas-docs/stable/generated/pandas.Series.idxmax.html).\n",
        "*   Armazene o número de cadeiras que cada coligação receberá uma vez que será necessário para a questão a seguir.\n",
        "\n",
        "\n",
        "\n",
        "\n",
        "\n",
        "\n",
        "\n"
      ]
    },
    {
      "metadata": {
        "id": "FZqq-LG-Ljeb",
        "colab_type": "code",
        "colab": {}
      },
      "cell_type": "code",
      "source": [
        ""
      ],
      "execution_count": 0,
      "outputs": []
    },
    {
      "metadata": {
        "id": "UX0K_K3DLnDH",
        "colab_type": "text"
      },
      "cell_type": "markdown",
      "source": [
        "#9. Quais os candidatos eleitos pelo processo de eleição proporcional? (Nível 3)"
      ]
    },
    {
      "metadata": {
        "id": "PRCpbEyjLyka",
        "colab_type": "text"
      },
      "cell_type": "markdown",
      "source": [
        "\n",
        "Uma vez obtida a quantidade de cadeiras recebidas por cada coligação,  imprima o nome dos 29 candidatos eleitos.\n",
        "\n",
        "--> Recomendações:\n",
        "\n",
        "\n",
        "*   Faça uso da coluna que armazena a coligação, criada na questão 6.\n",
        "*   A função DataFrame.sort_values() utilizada, anteriormente, pode ser útil.\n",
        "*   Armazene os nomes dos candidatos eleitos para utilizá-los na questão seguinte.\n",
        "\n",
        "\n"
      ]
    },
    {
      "metadata": {
        "id": "sxW6LK9PLyDi",
        "colab_type": "code",
        "colab": {}
      },
      "cell_type": "code",
      "source": [
        ""
      ],
      "execution_count": 0,
      "outputs": []
    },
    {
      "metadata": {
        "id": "hSV-pZbSowt5",
        "colab_type": "text"
      },
      "cell_type": "markdown",
      "source": [
        "# 10. Dividir entre eleitos e não eleitos (Nível 1)\n",
        "\n",
        "Utilizando o dicionário criado na questão anterior, iremos dividir o DataFrame entre os candidatos eleitos, utilizando o nome.\n",
        "\n",
        "Funções que irão te ajudar nesse exercício:\n",
        "\n",
        "- [**pandas.Series.isin**](https://pandas.pydata.org/pandas-docs/stable/generated/pandas.Series.isin.html): Verifique se os valores estão contidos na *Series*.\n",
        "- [**pandas.DataFrame.groupby**](https://pandas.pydata.org/pandas-docs/stable/generated/pandas.DataFrame.groupby.html): Consiste em agrupar o *DataFrame* a partir de uma coluna desejada.\n",
        "- [**pandas.Series.count**](https://pandas.pydata.org/pandas-docs/stable/generated/pandas.Series.count.html): Conta a quantidade de valores non-NA/null na *Series*.\n",
        "\n",
        "**Exercício**\n",
        "\n",
        "1. Criar uma nova coluna chamada **eleito**, com valores booleanos indicando se o candidato foi eleito ou não. Para isso utilize a função **pandas.Series.isin**.\n",
        "1. Imprima os grupos de eleitos e não eleitos, para agrupar utilize o método **pandas.DataFrame.groupby**. Em seguida, escolha uma coluna qualquer e conte a quantidade de valores non-NA/null de cada grupo, para isso utilize o método **pandas.Series.count**."
      ]
    },
    {
      "metadata": {
        "id": "9B041PSvLBc0",
        "colab_type": "code",
        "colab": {}
      },
      "cell_type": "code",
      "source": [
        "data['eleito'] = # EXERCÍCIO 1\n",
        "data.groupby('# EXERCÍCIO 2')"
      ],
      "execution_count": 0,
      "outputs": []
    },
    {
      "metadata": {
        "id": "Ht6ASyJhLKRU",
        "colab_type": "text"
      },
      "cell_type": "markdown",
      "source": [
        "#11. Sugestões de respostas\n",
        "\n",
        "Em caso de dúvidas sobre os resultados esperados, no notebook [Respostas.ipynb](https://drive.google.com/open?id=16G1eYxJ_dqCqMrQ3IjisY2vySAkBXpbi) há resoluções desenvolvidas pelos autores deste projeto para as questões acima."
      ]
    }
  ]
}