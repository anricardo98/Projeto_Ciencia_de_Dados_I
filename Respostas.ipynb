{
  "nbformat": 4,
  "nbformat_minor": 0,
  "metadata": {
    "colab": {
      "name": "Respostas.ipynb",
      "version": "0.3.2",
      "provenance": [],
      "collapsed_sections": [],
      "toc_visible": true
    },
    "kernelspec": {
      "name": "python3",
      "display_name": "Python 3"
    },
    "accelerator": "GPU"
  },
  "cells": [
    {
      "metadata": {
        "id": "iM9bMOmwJ63M",
        "colab_type": "code",
        "colab": {}
      },
      "cell_type": "code",
      "source": [
        "# Uploading files from your local file system\n",
        "\n",
        "from google.colab import files\n",
        "uploaded = files.upload()\n",
        "for fn in uploaded.keys():\n",
        "  print('User uploaded file \"{name}\" with length {length} bytes'.format(\n",
        "      name=fn, length=len(uploaded[fn])))"
      ],
      "execution_count": 0,
      "outputs": []
    },
    {
      "metadata": {
        "id": "1G6n_KLlKGdL",
        "colab_type": "text"
      },
      "cell_type": "markdown",
      "source": [
        "#1. Resposta da Questão #1"
      ]
    },
    {
      "metadata": {
        "id": "NQJ9sjKhKa50",
        "colab_type": "code",
        "colab": {
          "base_uri": "https://localhost:8080/",
          "height": 204
        },
        "outputId": "bc2ec7ba-8e46-4980-a10c-4533008998f9"
      },
      "cell_type": "code",
      "source": [
        "#Biblioteca Pandas\n",
        "import pandas as pd\n",
        "\n",
        "#Leitura do dataset\n",
        "eleicao = pd.read_csv(\"eleicao.csv\", sep=\";\")\n",
        "eleicao.head()"
      ],
      "execution_count": 3,
      "outputs": [
        {
          "output_type": "execute_result",
          "data": {
            "text/html": [
              "<div>\n",
              "<style scoped>\n",
              "    .dataframe tbody tr th:only-of-type {\n",
              "        vertical-align: middle;\n",
              "    }\n",
              "\n",
              "    .dataframe tbody tr th {\n",
              "        vertical-align: top;\n",
              "    }\n",
              "\n",
              "    .dataframe thead th {\n",
              "        text-align: right;\n",
              "    }\n",
              "</style>\n",
              "<table border=\"1\" class=\"dataframe\">\n",
              "  <thead>\n",
              "    <tr style=\"text-align: right;\">\n",
              "      <th></th>\n",
              "      <th>Número</th>\n",
              "      <th>Nome</th>\n",
              "      <th>Partido/Coligação</th>\n",
              "      <th>Votos</th>\n",
              "    </tr>\n",
              "  </thead>\n",
              "  <tbody>\n",
              "    <tr>\n",
              "      <th>0</th>\n",
              "      <td>10000</td>\n",
              "      <td>ANTONIO JUNIOR</td>\n",
              "      <td>PRB - PRB / PSDC</td>\n",
              "      <td>434</td>\n",
              "    </tr>\n",
              "    <tr>\n",
              "      <th>1</th>\n",
              "      <td>10010</td>\n",
              "      <td>CIDINHA</td>\n",
              "      <td>PRB - PRB / PSDC</td>\n",
              "      <td>36</td>\n",
              "    </tr>\n",
              "    <tr>\n",
              "      <th>2</th>\n",
              "      <td>10100</td>\n",
              "      <td>GABRIEL NEGREIROS</td>\n",
              "      <td>PRB - PRB / PSDC</td>\n",
              "      <td>280</td>\n",
              "    </tr>\n",
              "    <tr>\n",
              "      <th>3</th>\n",
              "      <td>10111</td>\n",
              "      <td>JÚNIOR FRANÇA</td>\n",
              "      <td>PRB - PRB / PSDC</td>\n",
              "      <td>568</td>\n",
              "    </tr>\n",
              "    <tr>\n",
              "      <th>4</th>\n",
              "      <td>10123</td>\n",
              "      <td>PROFª MADALENA PEIXOTO</td>\n",
              "      <td>PRB - PRB / PSDC</td>\n",
              "      <td>382</td>\n",
              "    </tr>\n",
              "  </tbody>\n",
              "</table>\n",
              "</div>"
            ],
            "text/plain": [
              "   Número                    Nome Partido/Coligação  Votos\n",
              "0   10000          ANTONIO JUNIOR  PRB - PRB / PSDC    434\n",
              "1   10010                 CIDINHA  PRB - PRB / PSDC     36\n",
              "2   10100       GABRIEL NEGREIROS  PRB - PRB / PSDC    280\n",
              "3   10111           JÚNIOR FRANÇA  PRB - PRB / PSDC    568\n",
              "4   10123  PROFª MADALENA PEIXOTO  PRB - PRB / PSDC    382"
            ]
          },
          "metadata": {
            "tags": []
          },
          "execution_count": 3
        }
      ]
    },
    {
      "metadata": {
        "id": "5oodLSvGKXOJ",
        "colab_type": "text"
      },
      "cell_type": "markdown",
      "source": [
        "#2. Resposta da Questão #2"
      ]
    },
    {
      "metadata": {
        "id": "Ua7gzcYXKSno",
        "colab_type": "code",
        "colab": {
          "base_uri": "https://localhost:8080/",
          "height": 71
        },
        "outputId": "f1f1bac5-78f0-4424-c9fe-6018e7f2ba97"
      },
      "cell_type": "code",
      "source": [
        "#Listas a serem utilizadas\n",
        "partidos = []\n",
        "coligacoes = []\n",
        "\n",
        "\n",
        "for item in eleicao[\"Partido/Coligação\"]:\n",
        "  split = item.split(\" - \")\n",
        "  partido = split[0]\n",
        "  try:\n",
        "    coligacao = split[1]\n",
        "  except:\n",
        "    coligacao = split[0] \n",
        "  partidos.append(partido)\n",
        "  coligacoes.append(coligacao)\n",
        "  \n",
        "partidos = set(partidos)\n",
        "coligacoes = set(coligacoes)\n",
        "\n",
        "print(partidos)\n",
        "print(coligacoes)"
      ],
      "execution_count": 6,
      "outputs": [
        {
          "output_type": "stream",
          "text": [
            "{'PRP', 'PTC', 'PDT', 'PSTU', 'PT do B', 'PSDC', 'DEM', 'PSOL', 'PTB', 'PEN', 'PSDB', 'PRB', 'PSC', 'PSL', 'PMN', 'PMB', 'SD', 'PROS', 'PP', 'PTN', 'PR', 'PC do B', 'PPS', 'PV', 'PSD', 'PHS', 'PT', 'REDE', 'PRTB', 'PSB', 'PMDB'}\n",
            "{'PSD / PTB / PSL', 'PRB / PSDC', 'PSDB / PT do B', 'PSOL', 'PV', 'PTN', 'PHS', 'PSTU', 'PMB', 'PSB / PPS', 'SD', 'PC do B', 'PDT / PMDB / PR / PROS / DEM / PSC', 'PT', 'PRP / PTC / PRTB / PMN', 'REDE', 'PEN / PP'}\n"
          ],
          "name": "stdout"
        }
      ]
    },
    {
      "metadata": {
        "id": "ukuv-f53KgDB",
        "colab_type": "text"
      },
      "cell_type": "markdown",
      "source": [
        "#3. Resposta da Questão #3"
      ]
    },
    {
      "metadata": {
        "id": "7NquZ1iYKihS",
        "colab_type": "code",
        "colab": {
          "base_uri": "https://localhost:8080/",
          "height": 599
        },
        "outputId": "26494bf3-fbd7-40f6-cc89-baf44c578f00"
      },
      "cell_type": "code",
      "source": [
        "#Dicionário a ser utilizado\n",
        "partidos_candidatos = {}\n",
        "\n",
        "for item in eleicao[\"Partido/Coligação\"]:\n",
        "  partido = item.split(\" - \")[0]\n",
        "  \n",
        "  if(partido in partidos_candidatos):\n",
        "    partidos_candidatos[partido] += 1\n",
        "  else:\n",
        "    partidos_candidatos[partido] = 1\n",
        "    \n",
        "partidos = pd.Series(partidos_candidatos)\n",
        "partidos.sort_values(ascending=False)"
      ],
      "execution_count": 7,
      "outputs": [
        {
          "output_type": "execute_result",
          "data": {
            "text/plain": [
              "SD         43\n",
              "PHS        42\n",
              "PMB        42\n",
              "PEN        41\n",
              "PTN        37\n",
              "PSOL       36\n",
              "PV         30\n",
              "PC do B    29\n",
              "PDT        24\n",
              "PSDC       23\n",
              "PT         20\n",
              "PSDB       20\n",
              "PSD        20\n",
              "PRB        17\n",
              "PPS        17\n",
              "PSB        17\n",
              "PT do B    17\n",
              "PRP        14\n",
              "PTC        14\n",
              "PSTU       11\n",
              "PMN         8\n",
              "PTB         7\n",
              "PSL         6\n",
              "REDE        5\n",
              "PSC         5\n",
              "PR          4\n",
              "PMDB        4\n",
              "PRTB        3\n",
              "PP          3\n",
              "PROS        2\n",
              "DEM         2\n",
              "dtype: int64"
            ]
          },
          "metadata": {
            "tags": []
          },
          "execution_count": 7
        }
      ]
    },
    {
      "metadata": {
        "id": "g-HAWxcvK-SZ",
        "colab_type": "text"
      },
      "cell_type": "markdown",
      "source": [
        "# 4. Resposta da Questão #4"
      ]
    },
    {
      "metadata": {
        "id": "5xpZ1CzTK_-M",
        "colab_type": "code",
        "colab": {
          "base_uri": "https://localhost:8080/",
          "height": 581
        },
        "outputId": "06c9cd60-9b7c-4cb5-9bdd-b24967421a80"
      },
      "cell_type": "code",
      "source": [
        "partidos_e_legendas = {}\n",
        "\n",
        "for item in eleicao[\"Número\"]:\n",
        "  \n",
        "  numero_da_legenda = int(str(item)[0:2])\n",
        "  \n",
        "  if (numero_da_legenda in partidos_e_legendas):\n",
        "    pass\n",
        "  else:\n",
        "    partido = eleicao[eleicao[\"Número\"] == item][\"Partido/Coligação\"].item().split(\" - \")[0]\n",
        "    partidos_e_legendas[partido] = numero_da_legenda\n",
        "  \n",
        "\n",
        "partidos_e_legendas\n",
        "#eleicao"
      ],
      "execution_count": 23,
      "outputs": [
        {
          "output_type": "execute_result",
          "data": {
            "text/plain": [
              "{'DEM': 25,\n",
              " 'PC do B': 65,\n",
              " 'PDT': 12,\n",
              " 'PEN': 51,\n",
              " 'PHS': 31,\n",
              " 'PMB': 35,\n",
              " 'PMDB': 15,\n",
              " 'PMN': 33,\n",
              " 'PP': 11,\n",
              " 'PPS': 23,\n",
              " 'PR': 22,\n",
              " 'PRB': 10,\n",
              " 'PROS': 90,\n",
              " 'PRP': 44,\n",
              " 'PRTB': 28,\n",
              " 'PSB': 40,\n",
              " 'PSC': 20,\n",
              " 'PSD': 55,\n",
              " 'PSDB': 45,\n",
              " 'PSDC': 27,\n",
              " 'PSL': 17,\n",
              " 'PSOL': 50,\n",
              " 'PSTU': 16,\n",
              " 'PT': 13,\n",
              " 'PT do B': 70,\n",
              " 'PTB': 14,\n",
              " 'PTC': 36,\n",
              " 'PTN': 19,\n",
              " 'PV': 43,\n",
              " 'REDE': 18,\n",
              " 'SD': 77}"
            ]
          },
          "metadata": {
            "tags": []
          },
          "execution_count": 23
        }
      ]
    },
    {
      "metadata": {
        "id": "fWnSUNDbIqxe",
        "colab_type": "text"
      },
      "cell_type": "markdown",
      "source": [
        "# 5. Resposta da Questão #5"
      ]
    },
    {
      "metadata": {
        "id": "rxF7FmE8IouX",
        "colab_type": "code",
        "colab": {
          "base_uri": "https://localhost:8080/",
          "height": 918
        },
        "outputId": "44b27544-5e21-495c-84ee-4b65125b69af"
      },
      "cell_type": "code",
      "source": [
        "eleicao[[\"Nome\", \"Votos\"]].sort_values(by=\"Votos\", ascending=False).head(29)"
      ],
      "execution_count": 11,
      "outputs": [
        {
          "output_type": "execute_result",
          "data": {
            "text/html": [
              "<div>\n",
              "<style scoped>\n",
              "    .dataframe tbody tr th:only-of-type {\n",
              "        vertical-align: middle;\n",
              "    }\n",
              "\n",
              "    .dataframe tbody tr th {\n",
              "        vertical-align: top;\n",
              "    }\n",
              "\n",
              "    .dataframe thead th {\n",
              "        text-align: right;\n",
              "    }\n",
              "</style>\n",
              "<table border=\"1\" class=\"dataframe\">\n",
              "  <thead>\n",
              "    <tr style=\"text-align: right;\">\n",
              "      <th></th>\n",
              "      <th>Nome</th>\n",
              "      <th>Votos</th>\n",
              "    </tr>\n",
              "  </thead>\n",
              "  <tbody>\n",
              "    <tr>\n",
              "      <th>26</th>\n",
              "      <td>RANIERE BARBOSA</td>\n",
              "      <td>10510</td>\n",
              "    </tr>\n",
              "    <tr>\n",
              "      <th>75</th>\n",
              "      <td>AMANDA GURGEL</td>\n",
              "      <td>8002</td>\n",
              "    </tr>\n",
              "    <tr>\n",
              "      <th>561</th>\n",
              "      <td>CARLA DICKSON OFTALMOLOGISTA</td>\n",
              "      <td>7924</td>\n",
              "    </tr>\n",
              "    <tr>\n",
              "      <th>72</th>\n",
              "      <td>UBALDO FERNANDES</td>\n",
              "      <td>7574</td>\n",
              "    </tr>\n",
              "    <tr>\n",
              "      <th>141</th>\n",
              "      <td>LUIZ ALMIR</td>\n",
              "      <td>7339</td>\n",
              "    </tr>\n",
              "    <tr>\n",
              "      <th>50</th>\n",
              "      <td>NATALIA BONAVIDES</td>\n",
              "      <td>6202</td>\n",
              "    </tr>\n",
              "    <tr>\n",
              "      <th>41</th>\n",
              "      <td>JULIA ARRUDA</td>\n",
              "      <td>5765</td>\n",
              "    </tr>\n",
              "    <tr>\n",
              "      <th>184</th>\n",
              "      <td>ANA PAULA</td>\n",
              "      <td>5465</td>\n",
              "    </tr>\n",
              "    <tr>\n",
              "      <th>10</th>\n",
              "      <td>BISPO FRANCISCO DE ASSIS</td>\n",
              "      <td>5160</td>\n",
              "    </tr>\n",
              "    <tr>\n",
              "      <th>32</th>\n",
              "      <td>KLEBER FERNANDES</td>\n",
              "      <td>5061</td>\n",
              "    </tr>\n",
              "    <tr>\n",
              "      <th>549</th>\n",
              "      <td>EUDIANE MACEDO</td>\n",
              "      <td>4922</td>\n",
              "    </tr>\n",
              "    <tr>\n",
              "      <th>37</th>\n",
              "      <td>CHAGAS CATARINO</td>\n",
              "      <td>4810</td>\n",
              "    </tr>\n",
              "    <tr>\n",
              "      <th>363</th>\n",
              "      <td>AROLDO ALVES</td>\n",
              "      <td>4532</td>\n",
              "    </tr>\n",
              "    <tr>\n",
              "      <th>74</th>\n",
              "      <td>FELIPE ALVES</td>\n",
              "      <td>4511</td>\n",
              "    </tr>\n",
              "    <tr>\n",
              "      <th>503</th>\n",
              "      <td>WILMA DE FARIA</td>\n",
              "      <td>4421</td>\n",
              "    </tr>\n",
              "    <tr>\n",
              "      <th>443</th>\n",
              "      <td>PRETO AQUINO</td>\n",
              "      <td>4206</td>\n",
              "    </tr>\n",
              "    <tr>\n",
              "      <th>300</th>\n",
              "      <td>DR FRANKLIN CAPISTRANO</td>\n",
              "      <td>4003</td>\n",
              "    </tr>\n",
              "    <tr>\n",
              "      <th>88</th>\n",
              "      <td>PROFESSORA ELEIKA</td>\n",
              "      <td>3758</td>\n",
              "    </tr>\n",
              "    <tr>\n",
              "      <th>388</th>\n",
              "      <td>SANDRO PIMENTEL</td>\n",
              "      <td>3700</td>\n",
              "    </tr>\n",
              "    <tr>\n",
              "      <th>370</th>\n",
              "      <td>DICKSON NASSER JR</td>\n",
              "      <td>3662</td>\n",
              "    </tr>\n",
              "    <tr>\n",
              "      <th>40</th>\n",
              "      <td>ARY GOMES</td>\n",
              "      <td>3488</td>\n",
              "    </tr>\n",
              "    <tr>\n",
              "      <th>160</th>\n",
              "      <td>DAGÔ</td>\n",
              "      <td>3428</td>\n",
              "    </tr>\n",
              "    <tr>\n",
              "      <th>64</th>\n",
              "      <td>CÍCERO MARTINS</td>\n",
              "      <td>3237</td>\n",
              "    </tr>\n",
              "    <tr>\n",
              "      <th>464</th>\n",
              "      <td>NEY LOPES JR</td>\n",
              "      <td>3197</td>\n",
              "    </tr>\n",
              "    <tr>\n",
              "      <th>395</th>\n",
              "      <td>MAURICIO GURGEL</td>\n",
              "      <td>3167</td>\n",
              "    </tr>\n",
              "    <tr>\n",
              "      <th>453</th>\n",
              "      <td>LILICO BEZERRA</td>\n",
              "      <td>3155</td>\n",
              "    </tr>\n",
              "    <tr>\n",
              "      <th>148</th>\n",
              "      <td>EDUARDO MACHADO</td>\n",
              "      <td>3002</td>\n",
              "    </tr>\n",
              "    <tr>\n",
              "      <th>534</th>\n",
              "      <td>PAULINHO FREIRE</td>\n",
              "      <td>2884</td>\n",
              "    </tr>\n",
              "    <tr>\n",
              "      <th>139</th>\n",
              "      <td>CESAR DE ADÃO ERIDAN</td>\n",
              "      <td>2768</td>\n",
              "    </tr>\n",
              "  </tbody>\n",
              "</table>\n",
              "</div>"
            ],
            "text/plain": [
              "                             Nome  Votos\n",
              "26                RANIERE BARBOSA  10510\n",
              "75                  AMANDA GURGEL   8002\n",
              "561  CARLA DICKSON OFTALMOLOGISTA   7924\n",
              "72               UBALDO FERNANDES   7574\n",
              "141                    LUIZ ALMIR   7339\n",
              "50              NATALIA BONAVIDES   6202\n",
              "41                   JULIA ARRUDA   5765\n",
              "184                     ANA PAULA   5465\n",
              "10       BISPO FRANCISCO DE ASSIS   5160\n",
              "32               KLEBER FERNANDES   5061\n",
              "549                EUDIANE MACEDO   4922\n",
              "37                CHAGAS CATARINO   4810\n",
              "363                  AROLDO ALVES   4532\n",
              "74                   FELIPE ALVES   4511\n",
              "503                WILMA DE FARIA   4421\n",
              "443                  PRETO AQUINO   4206\n",
              "300        DR FRANKLIN CAPISTRANO   4003\n",
              "88              PROFESSORA ELEIKA   3758\n",
              "388               SANDRO PIMENTEL   3700\n",
              "370             DICKSON NASSER JR   3662\n",
              "40                      ARY GOMES   3488\n",
              "160                          DAGÔ   3428\n",
              "64                 CÍCERO MARTINS   3237\n",
              "464                  NEY LOPES JR   3197\n",
              "395               MAURICIO GURGEL   3167\n",
              "453                LILICO BEZERRA   3155\n",
              "148               EDUARDO MACHADO   3002\n",
              "534               PAULINHO FREIRE   2884\n",
              "139          CESAR DE ADÃO ERIDAN   2768"
            ]
          },
          "metadata": {
            "tags": []
          },
          "execution_count": 11
        }
      ]
    },
    {
      "metadata": {
        "id": "rCTJcoU_DlrN",
        "colab_type": "text"
      },
      "cell_type": "markdown",
      "source": [
        "#6. Resposta da Questão #6"
      ]
    },
    {
      "metadata": {
        "id": "iYU3sMSkDmFx",
        "colab_type": "code",
        "colab": {
          "base_uri": "https://localhost:8080/",
          "height": 326
        },
        "outputId": "8eb23029-74e3-4a08-9346-68219fc9123f"
      },
      "cell_type": "code",
      "source": [
        "def get_coligacao(partido_coligacao):\n",
        "    \"\"\"Essa função retorna a coligação que o vereador faz parte.\n",
        "    \n",
        "    Exemplo:\n",
        "        input: 'PRB - PRB / PSDC'\n",
        "        output: 'PRB / PSDC'\n",
        "    \"\"\"\n",
        "    delimiter = partido_coligacao.find('-')+1\n",
        "    return partido_coligacao[delimiter:].strip()\n",
        "\n",
        "eleicao['coligacao'] = eleicao['Partido/Coligação'].apply(get_coligacao)\n",
        "votos_coligacoes = eleicao.groupby('coligacao')['Votos'].sum().sort_values().to_dict()\n",
        "\n",
        "votos_coligacoes\n",
        "# eleicao['coligacao'] = eleicao['Partido/Coligação'].apply(lambda x: x[x.find('/')+1:].strip())"
      ],
      "execution_count": 17,
      "outputs": [
        {
          "output_type": "execute_result",
          "data": {
            "text/plain": [
              "{'PC do B': 8429,\n",
              " 'PHS': 15038,\n",
              " 'PMB': 28629,\n",
              " 'PMDB / PR / PROS / DEM / PSC': 75026,\n",
              " 'PP': 18614,\n",
              " 'PPS': 15152,\n",
              " 'PSDC': 21283,\n",
              " 'PSOL': 17033,\n",
              " 'PSTU': 10074,\n",
              " 'PT': 23200,\n",
              " 'PT do B': 21000,\n",
              " 'PTB / PSL': 30541,\n",
              " 'PTC / PRTB / PMN': 9596,\n",
              " 'PTN': 15658,\n",
              " 'PV': 7082,\n",
              " 'REDE': 497,\n",
              " 'SD': 28224}"
            ]
          },
          "metadata": {
            "tags": []
          },
          "execution_count": 17
        }
      ]
    },
    {
      "metadata": {
        "id": "oLk3qui2_tjY",
        "colab_type": "text"
      },
      "cell_type": "markdown",
      "source": [
        "#7. Resposta da Questão #7"
      ]
    },
    {
      "metadata": {
        "id": "eUY35OQZAQSQ",
        "colab_type": "code",
        "colab": {
          "base_uri": "https://localhost:8080/",
          "height": 54
        },
        "outputId": "9ad504a3-2bc1-4ffb-c956-508c2e9a7b6d"
      },
      "cell_type": "code",
      "source": [
        "Q_eleitoral = 12684\n",
        "total_cadeiras = 29\n",
        "vagas_ocupadas = 0\n",
        "\n",
        "q_partidario = {}\n",
        "partido_com_cadeira = []\n",
        "partido_sem_cadeira = []\n",
        "\n",
        "for key, value in votos_coligacoes.items():\n",
        "  q_partidario[key] = value//Q_eleitoral\n",
        "  vagas_ocupadas += value//Q_eleitoral\n",
        "\n",
        "for key, value in q_partidario.items():\n",
        "  if (value == 0):\n",
        "    partido_sem_cadeira.append(key)\n",
        "  else:\n",
        "    partido_com_cadeira.append(key)\n",
        "    \n",
        "print (partido_com_cadeira)\n",
        "print (partido_sem_cadeira)"
      ],
      "execution_count": 15,
      "outputs": [
        {
          "output_type": "stream",
          "text": [
            "['PHS', 'PPS', 'PTN', 'PSOL', 'PP', 'PT do B', 'PSDC', 'PT', 'SD', 'PMB', 'PTB / PSL', 'PMDB / PR / PROS / DEM / PSC']\n",
            "['REDE', 'PV', 'PC do B', 'PTC / PRTB / PMN', 'PSTU']\n"
          ],
          "name": "stdout"
        }
      ]
    },
    {
      "metadata": {
        "id": "3sjxCyBrAKHv",
        "colab_type": "text"
      },
      "cell_type": "markdown",
      "source": [
        "#8. Resposta da Questão #8"
      ]
    },
    {
      "metadata": {
        "id": "wAVrt9zLAZ0h",
        "colab_type": "code",
        "colab": {
          "base_uri": "https://localhost:8080/",
          "height": 55
        },
        "outputId": "07b10c94-436f-4058-c4a2-bf17e5aa2e09"
      },
      "cell_type": "code",
      "source": [
        "cadeiras_partido = {}\n",
        "cadeiras_recebidas = {} \n",
        "\n",
        "for i in partido_com_cadeira:\n",
        "  cadeiras_partido[i] = q_partidario[i]\n",
        "  cadeiras_recebidas[i] = 0\n",
        "\n",
        "media = {key:(votos_coligacoes[key]/(value + cadeiras_recebidas[key] + 1)) for (key, value) in cadeiras_partido.items()}\n",
        "  \n",
        "while (vagas_ocupadas < total_cadeiras):\n",
        "  maior = pd.Series(media).idxmax()\n",
        "  cadeiras_recebidas[maior] += 1\n",
        "  media[maior] = votos_coligacoes[maior]/(cadeiras_partido[maior] + cadeiras_recebidas[maior] + 1)\n",
        "  vagas_ocupadas += 1\n",
        "\n",
        "cadeiras_totais = {key: (cadeiras_recebidas[key] + value) for key, value in cadeiras_partido.items()}\n",
        "\n",
        "for i in partido_sem_cadeira:\n",
        "  cadeiras_totais[i] = 0\n",
        "  \n",
        "print (cadeiras_totais)"
      ],
      "execution_count": 16,
      "outputs": [
        {
          "output_type": "stream",
          "text": [
            "{'PHS': 1, 'PPS': 1, 'PTN': 1, 'PSOL': 1, 'PP': 2, 'PT do B': 2, 'PSDC': 2, 'PT': 2, 'SD': 3, 'PMB': 3, 'PTB / PSL': 3, 'PMDB / PR / PROS / DEM / PSC': 8, 'REDE': 0, 'PV': 0, 'PC do B': 0, 'PTC / PRTB / PMN': 0, 'PSTU': 0}\n"
          ],
          "name": "stdout"
        }
      ]
    },
    {
      "metadata": {
        "id": "vWh3UczfANHo",
        "colab_type": "text"
      },
      "cell_type": "markdown",
      "source": [
        "#9. Resposta da Questão #9"
      ]
    },
    {
      "metadata": {
        "id": "zn05L1tsAbRx",
        "colab_type": "code",
        "colab": {
          "base_uri": "https://localhost:8080/",
          "height": 545
        },
        "outputId": "e5099cf7-16ca-472b-ccaa-478348b00eee"
      },
      "cell_type": "code",
      "source": [
        "eleitos = []\n",
        "\n",
        "for key, value in cadeiras_totais.items():\n",
        "  if (value > 0):\n",
        "    linhas = eleicao[eleicao[\"coligacao\"] == key]\n",
        "    linhas = linhas.sort_values(\"Votos\", ascending = False)\n",
        "    linhas = linhas.iloc[0:value, :]\n",
        "    aux = linhas[\"Nome\"]\n",
        "    for i in aux:\n",
        "      eleitos.append(i)\n",
        "\n",
        "eleitos"
      ],
      "execution_count": 18,
      "outputs": [
        {
          "output_type": "execute_result",
          "data": {
            "text/plain": [
              "['SUELDO MEDEIROS',\n",
              " 'DR FRANKLIN CAPISTRANO',\n",
              " 'ERIKO JÁCOME',\n",
              " 'SANDRO PIMENTEL',\n",
              " 'PRETO AQUINO',\n",
              " 'NINA SOUZA',\n",
              " 'AROLDO ALVES',\n",
              " 'WILMA DE FARIA',\n",
              " 'ANA PAULA',\n",
              " 'BISPO FRANCISCO DE ASSIS',\n",
              " 'NATALIA BONAVIDES',\n",
              " 'FERNANDO LUCENA',\n",
              " 'EUDIANE MACEDO',\n",
              " 'PAULINHO FREIRE',\n",
              " 'KLAUS ARAUJO',\n",
              " 'DINARTE TORRES',\n",
              " 'ROBSON CARVALHO',\n",
              " 'ALDO CLEMENTE',\n",
              " 'PROFESSORA ELEIKA',\n",
              " 'CÍCERO MARTINS',\n",
              " 'NEY LOPES JR',\n",
              " 'RANIERE BARBOSA',\n",
              " 'CARLA DICKSON OFTALMOLOGISTA',\n",
              " 'UBALDO FERNANDES',\n",
              " 'LUIZ ALMIR',\n",
              " 'JULIA ARRUDA',\n",
              " 'KLEBER FERNANDES',\n",
              " 'CHAGAS CATARINO',\n",
              " 'FELIPE ALVES']"
            ]
          },
          "metadata": {
            "tags": []
          },
          "execution_count": 18
        }
      ]
    },
    {
      "metadata": {
        "id": "2aBJCdfnIG_N",
        "colab_type": "text"
      },
      "cell_type": "markdown",
      "source": [
        "# Resposta da Questão #10"
      ]
    },
    {
      "metadata": {
        "id": "a6kK3PkPIJ4U",
        "colab_type": "code",
        "colab": {}
      },
      "cell_type": "code",
      "source": [
        "data['eleito'] = data['Nome'].isin(eleitos)\n",
        "data.groupby('eleito')['Nome'].count()"
      ],
      "execution_count": 0,
      "outputs": []
    }
  ]
}